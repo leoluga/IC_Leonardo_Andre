version https://git-lfs.github.com/spec/v1
oid sha256:9632c274de055790f75e94c8775efb4bbbdfe536faf5f5ad8d0e5f490fa9531f
size 77123
