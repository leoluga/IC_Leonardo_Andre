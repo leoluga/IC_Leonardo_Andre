version https://git-lfs.github.com/spec/v1
oid sha256:de4db58f78fe4d1a2c90a0b820fd9002092791c3d6b3b0ec65e47ba87277ab3a
size 164696
