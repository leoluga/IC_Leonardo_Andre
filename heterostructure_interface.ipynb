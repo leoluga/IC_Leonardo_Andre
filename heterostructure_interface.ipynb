version https://git-lfs.github.com/spec/v1
oid sha256:c85e0eecde5ab25180302f62ef845284a80c48f4b9bfbe0bcde6a0ee06994476
size 156311
