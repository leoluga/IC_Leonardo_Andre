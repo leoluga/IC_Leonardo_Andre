version https://git-lfs.github.com/spec/v1
oid sha256:2511c4a0f9c848ed28e966179ea6e8c5491996593ef4742bd68a0297b4e33b11
size 6298161
