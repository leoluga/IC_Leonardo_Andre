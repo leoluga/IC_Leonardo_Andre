version https://git-lfs.github.com/spec/v1
oid sha256:7c95247b9636511445549d785598ff5c252d9ad6b25e14e190adbe397dccbf43
size 2785178
