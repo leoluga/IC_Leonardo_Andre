version https://git-lfs.github.com/spec/v1
oid sha256:8401e6f4f4afee172e861afe20f173468af2c37f3745455dc0de463056f3109f
size 7418178
