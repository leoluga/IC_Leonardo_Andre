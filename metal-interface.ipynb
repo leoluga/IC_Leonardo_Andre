version https://git-lfs.github.com/spec/v1
oid sha256:175258a3e9b56be413a0b8fc4112eef6a79c95049fe21e5f0b1d9509d1e62cd8
size 28020
