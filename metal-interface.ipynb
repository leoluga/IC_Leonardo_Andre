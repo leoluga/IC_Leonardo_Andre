version https://git-lfs.github.com/spec/v1
oid sha256:6f8b5aebea987a9e0b9635bd6f7e218267677d44ad80756820edc6b25b60a0fb
size 152712
