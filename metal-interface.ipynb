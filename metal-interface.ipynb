version https://git-lfs.github.com/spec/v1
oid sha256:0f89af49341bfae8b9942dd5cef03802969ecbec46d9d9750fc4e98d9dd431a7
size 270121
