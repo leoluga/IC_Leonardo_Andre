version https://git-lfs.github.com/spec/v1
oid sha256:b900b0bd4c30e10cdbe08bc5c2ceab84254973727b641b4348fdb29ba61cf843
size 152675
